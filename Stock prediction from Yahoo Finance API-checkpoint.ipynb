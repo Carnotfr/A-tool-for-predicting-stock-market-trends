import yfinance as yf
import pandas as pd
import numpy as np
from sklearn.model_selection import train_test_split
from sklearn.linear_model import LinearRegression
from sklearn.tree import DecisionTreeRegressor
from sklearn.svm import SVR
from sklearn.metrics import mean_squared_error, r2_score
import matplotlib.pyplot as plt

class StockPredictor:
    def __init__(self, ticker='^GSPC', start_date='2010-01-01', end_date=None):
        """
        Initialize stock predictor with data from Yahoo Finance
        :param ticker: Stock ticker symbol (default: S&P 500)
        :param start_date: Start date for historical data
        :param end_date: End date for historical data (default: today)
        """
        self.ticker = ticker
        self.start_date = start_date
        self.end_date = end_date or pd.to_datetime('today').strftime('%Y-%m-%d')
        self.data = None
        self.models = {
            'Linear Regression': LinearRegression(),
            'Decision Tree': DecisionTreeRegressor(max_depth=5),
            'Support Vector': SVR(kernel='rbf', C=1000, gamma=0.1)
        }
        self.results = {}

    def fetch_data(self):
        """Download and preprocess stock data from Yahoo Finance"""
        print(f"Fetching data for {self.ticker} from {self.start_date} to {self.end_date}")
        self.data = yf.download(self.ticker, start=self.start_date, end=self.end_date)
        
        # Create features
        self.data['Daily_Return'] = self.data['Close'].pct_change()
        self.data['SMA_5'] = self.data['Close'].rolling(window=5).mean()
        self.data['SMA_20'] = self.data['Close'].rolling(window=20).mean()
        self.data['EMA_20'] = self.data['Close'].ewm(span=20, adjust=False).mean()
        
        # Target variable (next day's closing price)
        self.data['Target'] = self.data['Close'].shift(-1)
        
        # Remove NA values
        self.data.dropna(inplace=True)
        return self.data

    def prepare_features(self):
        """Prepare feature and target arrays"""
        features = self.data[['Close', 'Daily_Return', 'SMA_5', 'SMA_20', 'EMA_20']]
        target = self.data['Target']
        return features, target

    def train_models(self, test_size=0.2):
        """Train and evaluate all models"""
        if self.data is None:
            self.fetch_data()
            
        X, y = self.prepare_features()
        X_train, X_test, y_train, y_test = train_test_split(X, y, test_size=test_size, shuffle=False)
        
        for name, model in self.models.items():
            print(f"\nTraining {name}...")
            model.fit(X_train, y_train)
            predictions = model.predict(X_test)
            
            # Store results
            self.results[name] = {
                'model': model,
                'predictions': predictions,
                'actual': y_test,
                'mse': mean_squared_error(y_test, predictions),
                'r2': r2_score(y_test, predictions)
            }
            
            print(f"{name} MSE: {self.results[name]['mse']:.2f}")
            print(f"{name} R²: {self.results[name]['r2']:.2f}")
        
        return self.results

    def plot_results(self):
        """Visualize predictions vs actual prices"""
        if not self.results:
            print("No results to plot. Run train_models() first.")
            return
            
        plt.figure(figsize=(15, 8))
        plt.plot(self.data.index[-len(self.results['Linear Regression']['actual']):], 
                self.results['Linear Regression']['actual'], 
                label='Actual Prices', color='black')
        
        for name, result in self.results.items():
            plt.plot(self.data.index[-len(result['actual']):], 
                    result['predictions'], 
                    alpha=0.7, label=f'{name} Predictions')
        
        plt.title(f'{self.ticker} Stock Price Prediction Comparison')
        plt.xlabel('Date')
        plt.ylabel('Price')
        plt.legend()
        plt.grid(True)
        plt.show()

    def predict_next_day(self):
        """Predict the next trading day's closing price"""
        if not self.results:
            print("No trained models available. Run train_models() first.")
            return
            
        latest_features = self.data[['Close', 'Daily_Return', 'SMA_5', 'SMA_20', 'EMA_20']].iloc[-1].values.reshape(1, -1)
        
        print("\nNext Trading Day Prediction:")
        for name, result in self.results.items():
            prediction = result['model'].predict(latest_features)[0]
            print(f"{name}: {prediction:.2f}")
        
        return {name: result['model'].predict(latest_features)[0] for name in self.results}


# Example Usage
if __name__ == "__main__":
    # Initialize predictor (default: S&P 500)
    predictor = StockPredictor(ticker='AAPL', start_date='2015-01-01')
    
    # Fetch and prepare data
    predictor.fetch_data()
    
    # Train and evaluate models
    predictor.train_models()
    
    # Visualize results
    predictor.plot_results()
    
    # Make prediction for next trading day
    next_day_pred = predictor.predict_next_day()
